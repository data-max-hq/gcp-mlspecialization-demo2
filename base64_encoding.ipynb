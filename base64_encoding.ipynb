{
 "cells": [
  {
   "cell_type": "code",
   "execution_count": null,
   "metadata": {
    "vscode": {
     "languageId": "plaintext"
    }
   },
   "outputs": [],
   "source": [
    "import json\n",
    "import struct\n",
    "import requests\n",
    "import tensorflow as tf\n",
    "import base64"
   ]
  },
  {
   "cell_type": "code",
   "execution_count": null,
   "metadata": {
    "vscode": {
     "languageId": "plaintext"
    }
   },
   "outputs": [],
   "source": [
    "# Function to serialize byte values\n",
    "def _bytes_feature(value):\n",
    "    return tf.train.Feature(bytes_list=tf.train.BytesList(value=[value]))\n",
    "\n",
    "# Function to serialize float values\n",
    "def _floats_feature(value):\n",
    "    return tf.train.Feature(float_list=tf.train.FloatList(value=[value]))\n",
    "\n",
    "# Function to serialize int64 values\n",
    "def _int64_feature(value):\n",
    "    return tf.train.Feature(int64_list=tf.train.Int64List(value=[value]))\n",
    "\n",
    "# Function to create features based on the given categorical and numerical feature lists\n",
    "def serialize_features(data):\n",
    "    feature_dict = {}\n",
    "\n",
    "    # Categorical numerical features (must be stored as int64)\n",
    "    categorical_numerical_features = [\n",
    "        \"Marital_Status\", \"Occupation\", \"Product_Category_1\", \n",
    "        \"Product_Category_2\", \"Product_Category_3\"\n",
    "    ]\n",
    "\n",
    "    # Categorical string features (must be stored as bytes)\n",
    "    categorical_string_features = [\n",
    "        \"City_Category\", \"Age\", \"Stay_In_Current_City_Years\", \"Gender\"\n",
    "    ]\n",
    "\n",
    "    # Serialize categorical numerical features (int64)\n",
    "    for feature in categorical_numerical_features:\n",
    "        if feature in data:\n",
    "            feature_dict[feature] = _int64_feature(int(data[feature]))\n",
    "\n",
    "    # Serialize categorical string features (bytes)\n",
    "    for feature in categorical_string_features:\n",
    "        if feature in data:\n",
    "            feature_dict[feature] = _bytes_feature(data[feature].encode('utf-8'))\n",
    "\n",
    "    # Create a tf.train.Example with the serialized features\n",
    "    example = tf.train.Example(features=tf.train.Features(feature=feature_dict))\n",
    "    serialized_example = example.SerializeToString()\n",
    "\n",
    "    return serialized_example"
   ]
  },
  {
   "cell_type": "code",
   "execution_count": null,
   "metadata": {
    "vscode": {
     "languageId": "plaintext"
    }
   },
   "outputs": [],
   "source": [
    "# Example data dictionary with numerical features as integers and string features\n",
    "data = {\n",
    "    \"Marital_Status\": 1,  # Marital_Status as int64\n",
    "    \"Occupation\": 5,      # Occupation as int64\n",
    "    \"Product_Category_1\": 2,  # Product_Category_1 as int64\n",
    "    \"Product_Category_2\": 3,  # Product_Category_2 as int64\n",
    "    \"Product_Category_3\": 4,  # Product_Category_3 as int64\n",
    "    \"City_Category\": \"A\",  # City_Category as bytes\n",
    "    \"Age\": \"26-35\",  # Age as bytes\n",
    "    \"Stay_In_Current_City_Years\": \"2\",  # Stay_In_Current_City_Years as bytes\n",
    "    \"Gender\": \"M\"  # Gender as bytes\n",
    "}"
   ]
  },
  {
   "cell_type": "code",
   "execution_count": null,
   "metadata": {
    "vscode": {
     "languageId": "plaintext"
    }
   },
   "outputs": [],
   "source": [
    "# Serialize the example data\n",
    "example_serialized = serialize_features(data)\n",
    "\n",
    "# Optionally encode to base64 to view the result in a more readable format\n",
    "encoded_example = base64.b64encode(example_serialized).decode('utf-8')\n",
    "print(encoded_example)"
   ]
  }
 ],
 "metadata": {
  "language_info": {
   "name": "python"
  }
 },
 "nbformat": 4,
 "nbformat_minor": 2
}
